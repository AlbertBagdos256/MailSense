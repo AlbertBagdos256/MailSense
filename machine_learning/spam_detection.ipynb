{
 "cells": [
  {
   "cell_type": "code",
   "execution_count": 6,
   "id": "eddb6e57",
   "metadata": {
    "tags": []
   },
   "outputs": [],
   "source": [
    "import pandas as pd\n"
   ]
  },
  {
   "cell_type": "code",
   "execution_count": 21,
   "id": "ed3185c4",
   "metadata": {
    "tags": []
   },
   "outputs": [],
   "source": [
    "df1 = pd.read_csv(\"data/spam_data.csv\")"
   ]
  },
  {
   "cell_type": "code",
   "execution_count": 31,
   "id": "924ed6f4-4f1f-454e-912f-d7be40b69c2f",
   "metadata": {
    "tags": []
   },
   "outputs": [
    {
     "data": {
      "text/plain": [
       "Spam/Ham\n",
       "spam    17171\n",
       "ham     16545\n",
       "Name: count, dtype: int64"
      ]
     },
     "execution_count": 31,
     "metadata": {},
     "output_type": "execute_result"
    }
   ],
   "source": [
    "df1['Spam/Ham'].value_counts()"
   ]
  },
  {
   "cell_type": "code",
   "execution_count": 22,
   "id": "9c4ef8de",
   "metadata": {
    "tags": []
   },
   "outputs": [],
   "source": [
    "df2 = pd.read_csv(\"data/full_dataset.csv\")"
   ]
  },
  {
   "cell_type": "code",
   "execution_count": 28,
   "id": "9928acb0",
   "metadata": {
    "tags": []
   },
   "outputs": [],
   "source": [
    "df2 = df2[df2['category'] == 'spam']"
   ]
  },
  {
   "cell_type": "code",
   "execution_count": 39,
   "id": "2024523e-419e-40d1-a06a-83e9a2f0ebaf",
   "metadata": {
    "tags": []
   },
   "outputs": [],
   "source": [
    "df3 = pd.read_csv(\"data/emails.csv\")"
   ]
  },
  {
   "cell_type": "code",
   "execution_count": 49,
   "id": "ca66b996-9d84-4230-86a1-21056c1fb600",
   "metadata": {
    "tags": []
   },
   "outputs": [
    {
     "data": {
      "text/plain": [
       "spam\n",
       "0    4360\n",
       "1    1368\n",
       "Name: count, dtype: int64"
      ]
     },
     "execution_count": 49,
     "metadata": {},
     "output_type": "execute_result"
    }
   ],
   "source": [
    "df3['spam'].value_counts()"
   ]
  },
  {
   "cell_type": "code",
   "execution_count": 63,
   "id": "256f3724-4ab3-4f32-b1eb-5d7bca2fe5fc",
   "metadata": {
    "tags": []
   },
   "outputs": [],
   "source": [
    "df1 = df1[df1['Date'] > '2005']"
   ]
  },
  {
   "cell_type": "code",
   "execution_count": null,
   "id": "073563bc-fbd3-4dc2-828b-ebaba58fa289",
   "metadata": {
    "tags": []
   },
   "outputs": [],
   "source": [
    "df1.drop(['Message ID','Date'], axis = 1, inplace = True)"
   ]
  },
  {
   "cell_type": "code",
   "execution_count": null,
   "id": "a2d1044f-d830-450a-a5df-11a9a333c621",
   "metadata": {
    "tags": []
   },
   "outputs": [],
   "source": [
    "df1.rename({'Subject':'subject','Message':'message','Spam/Ham':'spam'}, axis = 1, inplace = True)"
   ]
  },
  {
   "cell_type": "code",
   "execution_count": 90,
   "id": "c8bfaa9e-4e82-42ca-b3b7-d03739722e43",
   "metadata": {
    "tags": []
   },
   "outputs": [
    {
     "data": {
      "text/html": [
       "<div>\n",
       "<style scoped>\n",
       "    .dataframe tbody tr th:only-of-type {\n",
       "        vertical-align: middle;\n",
       "    }\n",
       "\n",
       "    .dataframe tbody tr th {\n",
       "        vertical-align: top;\n",
       "    }\n",
       "\n",
       "    .dataframe thead th {\n",
       "        text-align: right;\n",
       "    }\n",
       "</style>\n",
       "<table border=\"1\" class=\"dataframe\">\n",
       "  <thead>\n",
       "    <tr style=\"text-align: right;\">\n",
       "      <th></th>\n",
       "      <th>subject</th>\n",
       "      <th>message</th>\n",
       "      <th>spam</th>\n",
       "    </tr>\n",
       "  </thead>\n",
       "  <tbody>\n",
       "    <tr>\n",
       "      <th>4622</th>\n",
       "      <td>rate approved at 3 . 25</td>\n",
       "      <td>hello ,\\nwe tried contacting you awhile ago ab...</td>\n",
       "      <td>spam</td>\n",
       "    </tr>\n",
       "    <tr>\n",
       "      <th>4623</th>\n",
       "      <td>want your music for free ? we teach you how to...</td>\n",
       "      <td>press here to enter !\\nmembership comes with :...</td>\n",
       "      <td>spam</td>\n",
       "    </tr>\n",
       "    <tr>\n",
       "      <th>4624</th>\n",
       "      <td>hey friend - the cheappesst v . 1 . c . 0 . d ...</td>\n",
       "      <td>your wife needs this\\nv ^ 1 - c ^ o , d - 1 . ...</td>\n",
       "      <td>spam</td>\n",
       "    </tr>\n",
       "  </tbody>\n",
       "</table>\n",
       "</div>"
      ],
      "text/plain": [
       "                                                subject  \\\n",
       "4622                            rate approved at 3 . 25   \n",
       "4623  want your music for free ? we teach you how to...   \n",
       "4624  hey friend - the cheappesst v . 1 . c . 0 . d ...   \n",
       "\n",
       "                                                message  spam  \n",
       "4622  hello ,\\nwe tried contacting you awhile ago ab...  spam  \n",
       "4623  press here to enter !\\nmembership comes with :...  spam  \n",
       "4624  your wife needs this\\nv ^ 1 - c ^ o , d - 1 . ...  spam  "
      ]
     },
     "execution_count": 90,
     "metadata": {},
     "output_type": "execute_result"
    }
   ],
   "source": [
    "df1.head(3)"
   ]
  },
  {
   "cell_type": "code",
   "execution_count": null,
   "id": "a1fe552e-d209-4bea-8102-e66aca66d062",
   "metadata": {
    "tags": []
   },
   "outputs": [],
   "source": [
    "df2.drop(['id','text','category_id'], axis = 1, inplace = True)"
   ]
  },
  {
   "cell_type": "code",
   "execution_count": null,
   "id": "a05320bc-c6c3-4b39-a4c5-8b5056996b77",
   "metadata": {
    "tags": []
   },
   "outputs": [],
   "source": [
    "df2.rename({'body':'message', 'category':'spam'}, axis = 1, inplace = True)"
   ]
  },
  {
   "cell_type": "code",
   "execution_count": 97,
   "id": "a72abdca-904b-42d0-8ff8-16d22fb2cdef",
   "metadata": {
    "tags": []
   },
   "outputs": [
    {
     "data": {
      "text/html": [
       "<div>\n",
       "<style scoped>\n",
       "    .dataframe tbody tr th:only-of-type {\n",
       "        vertical-align: middle;\n",
       "    }\n",
       "\n",
       "    .dataframe tbody tr th {\n",
       "        vertical-align: top;\n",
       "    }\n",
       "\n",
       "    .dataframe thead th {\n",
       "        text-align: right;\n",
       "    }\n",
       "</style>\n",
       "<table border=\"1\" class=\"dataframe\">\n",
       "  <thead>\n",
       "    <tr style=\"text-align: right;\">\n",
       "      <th></th>\n",
       "      <th>subject</th>\n",
       "      <th>message</th>\n",
       "      <th>spam</th>\n",
       "    </tr>\n",
       "  </thead>\n",
       "  <tbody>\n",
       "    <tr>\n",
       "      <th>1</th>\n",
       "      <td>Your Amazon was used on new device</td>\n",
       "      <td>Your $5000 refund is processed. Claim: bit.ly/...</td>\n",
       "      <td>spam</td>\n",
       "    </tr>\n",
       "    <tr>\n",
       "      <th>2</th>\n",
       "      <td>Re: Your Google inquiry</td>\n",
       "      <td>Hi, following up about your Google application...</td>\n",
       "      <td>spam</td>\n",
       "    </tr>\n",
       "    <tr>\n",
       "      <th>6</th>\n",
       "      <td>PayPal Funds Release</td>\n",
       "      <td>$750 held for verification. Confirm: paypal-fu...</td>\n",
       "      <td>spam</td>\n",
       "    </tr>\n",
       "  </tbody>\n",
       "</table>\n",
       "</div>"
      ],
      "text/plain": [
       "                              subject  \\\n",
       "1  Your Amazon was used on new device   \n",
       "2             Re: Your Google inquiry   \n",
       "6                PayPal Funds Release   \n",
       "\n",
       "                                             message  spam  \n",
       "1  Your $5000 refund is processed. Claim: bit.ly/...  spam  \n",
       "2  Hi, following up about your Google application...  spam  \n",
       "6  $750 held for verification. Confirm: paypal-fu...  spam  "
      ]
     },
     "execution_count": 97,
     "metadata": {},
     "output_type": "execute_result"
    }
   ],
   "source": [
    "df2.head(3)"
   ]
  },
  {
   "cell_type": "code",
   "execution_count": 141,
   "id": "67e65c62-f893-43b7-9af9-1c2fc9f8dbfa",
   "metadata": {
    "tags": []
   },
   "outputs": [],
   "source": [
    "df3['subject'] = df3['text'].str[8:100]"
   ]
  },
  {
   "cell_type": "code",
   "execution_count": 143,
   "id": "76a9a1bd-e1de-4373-97e0-f0abcade5256",
   "metadata": {
    "tags": []
   },
   "outputs": [],
   "source": [
    "df3.rename({'text':'message'}, axis = 1, inplace = True)"
   ]
  },
  {
   "cell_type": "code",
   "execution_count": 144,
   "id": "68176857-0244-4747-8242-732cda2750e9",
   "metadata": {
    "tags": []
   },
   "outputs": [
    {
     "data": {
      "text/html": [
       "<div>\n",
       "<style scoped>\n",
       "    .dataframe tbody tr th:only-of-type {\n",
       "        vertical-align: middle;\n",
       "    }\n",
       "\n",
       "    .dataframe tbody tr th {\n",
       "        vertical-align: top;\n",
       "    }\n",
       "\n",
       "    .dataframe thead th {\n",
       "        text-align: right;\n",
       "    }\n",
       "</style>\n",
       "<table border=\"1\" class=\"dataframe\">\n",
       "  <thead>\n",
       "    <tr style=\"text-align: right;\">\n",
       "      <th></th>\n",
       "      <th>message</th>\n",
       "      <th>spam</th>\n",
       "      <th>subject</th>\n",
       "    </tr>\n",
       "  </thead>\n",
       "  <tbody>\n",
       "    <tr>\n",
       "      <th>0</th>\n",
       "      <td>Subject: naturally irresistible your corporate...</td>\n",
       "      <td>1</td>\n",
       "      <td>naturally irresistible your corporate identit...</td>\n",
       "    </tr>\n",
       "    <tr>\n",
       "      <th>1</th>\n",
       "      <td>Subject: the stock trading gunslinger  fanny i...</td>\n",
       "      <td>1</td>\n",
       "      <td>the stock trading gunslinger  fanny is merril...</td>\n",
       "    </tr>\n",
       "    <tr>\n",
       "      <th>2</th>\n",
       "      <td>Subject: unbelievable new homes made easy  im ...</td>\n",
       "      <td>1</td>\n",
       "      <td>unbelievable new homes made easy  im wanting ...</td>\n",
       "    </tr>\n",
       "    <tr>\n",
       "      <th>3</th>\n",
       "      <td>Subject: 4 color printing special  request add...</td>\n",
       "      <td>1</td>\n",
       "      <td>4 color printing special  request additional ...</td>\n",
       "    </tr>\n",
       "    <tr>\n",
       "      <th>4</th>\n",
       "      <td>Subject: do not have money , get software cds ...</td>\n",
       "      <td>1</td>\n",
       "      <td>do not have money , get software cds from her...</td>\n",
       "    </tr>\n",
       "    <tr>\n",
       "      <th>...</th>\n",
       "      <td>...</td>\n",
       "      <td>...</td>\n",
       "      <td>...</td>\n",
       "    </tr>\n",
       "    <tr>\n",
       "      <th>5723</th>\n",
       "      <td>Subject: re : research and development charges...</td>\n",
       "      <td>0</td>\n",
       "      <td>re : research and development charges to gpg ...</td>\n",
       "    </tr>\n",
       "    <tr>\n",
       "      <th>5724</th>\n",
       "      <td>Subject: re : receipts from visit  jim ,  than...</td>\n",
       "      <td>0</td>\n",
       "      <td>re : receipts from visit  jim ,  thanks again...</td>\n",
       "    </tr>\n",
       "    <tr>\n",
       "      <th>5725</th>\n",
       "      <td>Subject: re : enron case study update  wow ! a...</td>\n",
       "      <td>0</td>\n",
       "      <td>re : enron case study update  wow ! all on th...</td>\n",
       "    </tr>\n",
       "    <tr>\n",
       "      <th>5726</th>\n",
       "      <td>Subject: re : interest  david ,  please , call...</td>\n",
       "      <td>0</td>\n",
       "      <td>re : interest  david ,  please , call shirley...</td>\n",
       "    </tr>\n",
       "    <tr>\n",
       "      <th>5727</th>\n",
       "      <td>Subject: news : aurora 5 . 2 update  aurora ve...</td>\n",
       "      <td>0</td>\n",
       "      <td>news : aurora 5 . 2 update  aurora version 5 ...</td>\n",
       "    </tr>\n",
       "  </tbody>\n",
       "</table>\n",
       "<p>5728 rows × 3 columns</p>\n",
       "</div>"
      ],
      "text/plain": [
       "                                                message  spam  \\\n",
       "0     Subject: naturally irresistible your corporate...     1   \n",
       "1     Subject: the stock trading gunslinger  fanny i...     1   \n",
       "2     Subject: unbelievable new homes made easy  im ...     1   \n",
       "3     Subject: 4 color printing special  request add...     1   \n",
       "4     Subject: do not have money , get software cds ...     1   \n",
       "...                                                 ...   ...   \n",
       "5723  Subject: re : research and development charges...     0   \n",
       "5724  Subject: re : receipts from visit  jim ,  than...     0   \n",
       "5725  Subject: re : enron case study update  wow ! a...     0   \n",
       "5726  Subject: re : interest  david ,  please , call...     0   \n",
       "5727  Subject: news : aurora 5 . 2 update  aurora ve...     0   \n",
       "\n",
       "                                                subject  \n",
       "0      naturally irresistible your corporate identit...  \n",
       "1      the stock trading gunslinger  fanny is merril...  \n",
       "2      unbelievable new homes made easy  im wanting ...  \n",
       "3      4 color printing special  request additional ...  \n",
       "4      do not have money , get software cds from her...  \n",
       "...                                                 ...  \n",
       "5723   re : research and development charges to gpg ...  \n",
       "5724   re : receipts from visit  jim ,  thanks again...  \n",
       "5725   re : enron case study update  wow ! all on th...  \n",
       "5726   re : interest  david ,  please , call shirley...  \n",
       "5727   news : aurora 5 . 2 update  aurora version 5 ...  \n",
       "\n",
       "[5728 rows x 3 columns]"
      ]
     },
     "execution_count": 144,
     "metadata": {},
     "output_type": "execute_result"
    }
   ],
   "source": [
    "df3"
   ]
  }
 ],
 "metadata": {
  "kernelspec": {
   "display_name": "Python 3 (ipykernel)",
   "language": "python",
   "name": "python3"
  },
  "language_info": {
   "codemirror_mode": {
    "name": "ipython",
    "version": 3
   },
   "file_extension": ".py",
   "mimetype": "text/x-python",
   "name": "python",
   "nbconvert_exporter": "python",
   "pygments_lexer": "ipython3",
   "version": "3.11.4"
  }
 },
 "nbformat": 4,
 "nbformat_minor": 5
}
